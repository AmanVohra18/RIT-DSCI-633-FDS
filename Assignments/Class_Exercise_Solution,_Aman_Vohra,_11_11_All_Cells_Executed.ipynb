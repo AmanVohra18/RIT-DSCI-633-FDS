{
  "nbformat": 4,
  "nbformat_minor": 0,
  "metadata": {
    "kernelspec": {
      "display_name": "Python 3",
      "language": "python",
      "name": "python3"
    },
    "language_info": {
      "codemirror_mode": {
        "name": "ipython",
        "version": 3
      },
      "file_extension": ".py",
      "mimetype": "text/x-python",
      "name": "python",
      "nbconvert_exporter": "python",
      "pygments_lexer": "ipython3",
      "version": "3.7.10"
    },
    "nav_menu": {
      "height": "360px",
      "width": "416px"
    },
    "toc": {
      "navigate_menu": true,
      "number_sections": true,
      "sideBar": true,
      "threshold": 6,
      "toc_cell": false,
      "toc_section_display": "block",
      "toc_window_display": false
    },
    "colab": {
      "name": "Class Exercise Solution, Aman Vohra, 11/11.ipynb",
      "provenance": [],
      "collapsed_sections": []
    }
  },
  "cells": [
    {
      "cell_type": "markdown",
      "metadata": {
        "id": "oJN5A4eKyT2b"
      },
      "source": [
        "# Setup"
      ]
    },
    {
      "cell_type": "markdown",
      "metadata": {
        "id": "q9uCUBN6yT2c"
      },
      "source": [
        "Import a few common modules"
      ]
    },
    {
      "cell_type": "code",
      "metadata": {
        "id": "R1uvP5vDyT2d",
        "colab": {
          "base_uri": "https://localhost:8080/"
        },
        "outputId": "76d35f75-b4b6-4cd2-dd44-b781a9ab710f"
      },
      "source": [
        "#CODE for points = 1\n",
        "# import sklearn, numpy, os\n",
        "import pandas as pd\n",
        "import numpy as np\n",
        "import os\n",
        "import matplotlib.pyplot as plt\n",
        "\n",
        "# Python ≥3.5 is required\n",
        "import sys\n",
        "assert sys.version_info >= (3, 5)\n",
        "\n",
        "# Scikit-Learn ≥0.20 is required\n",
        "import sklearn\n",
        "assert sklearn.__version__ >=\"0.20\"\n",
        "print(\"sklearn version is: \", sklearn.__version__ )\n",
        "\n",
        "\n",
        "# TensorFlow ≥2.0 is required\n",
        "import tensorflow as tf\n",
        "from tensorflow import keras\n",
        "assert tf.__version__ >= \"2.0\"\n",
        "\n",
        "%load_ext tensorboard\n",
        "\n",
        "\n",
        "# to make this notebook's output stable across runs\n",
        "np.random.seed(42)\n"
      ],
      "execution_count": 39,
      "outputs": [
        {
          "output_type": "stream",
          "name": "stdout",
          "text": [
            "sklearn version is:  0.22.2.post1\n",
            "The tensorboard extension is already loaded. To reload it, use:\n",
            "  %reload_ext tensorboard\n"
          ]
        }
      ]
    },
    {
      "cell_type": "markdown",
      "metadata": {
        "id": "jzMYiB0EyT2f"
      },
      "source": [
        "# Vanishing/Exploding Gradients Problem"
      ]
    },
    {
      "cell_type": "code",
      "metadata": {
        "id": "XFRcZCHRyT2g"
      },
      "source": [
        "def logit(z):\n",
        "    return 1 / (1 + np.exp(-z))"
      ],
      "execution_count": 40,
      "outputs": []
    },
    {
      "cell_type": "code",
      "metadata": {
        "id": "Q14TCXqxyT2g",
        "colab": {
          "base_uri": "https://localhost:8080/"
        },
        "outputId": "034170ab-1754-411d-ac17-098a03e3b6ec"
      },
      "source": [
        "z = np.linspace(-5, 5, 200)\n",
        "logit(z)"
      ],
      "execution_count": 41,
      "outputs": [
        {
          "output_type": "execute_result",
          "data": {
            "text/plain": [
              "array([0.00669285, 0.00703534, 0.00739523, 0.00777338, 0.00817071,\n",
              "       0.00858818, 0.00902677, 0.00948756, 0.00997163, 0.01048013,\n",
              "       0.01101428, 0.01157533, 0.01216461, 0.01278351, 0.01343346,\n",
              "       0.01411598, 0.01483266, 0.01558515, 0.01637519, 0.01720457,\n",
              "       0.01807518, 0.018989  , 0.01994809, 0.02095457, 0.0220107 ,\n",
              "       0.02311881, 0.02428131, 0.02550075, 0.02677974, 0.02812103,\n",
              "       0.02952746, 0.03100199, 0.03254769, 0.03416773, 0.03586542,\n",
              "       0.03764418, 0.03950753, 0.04145915, 0.04350281, 0.04564241,\n",
              "       0.04788198, 0.05022565, 0.0526777 , 0.05524249, 0.05792451,\n",
              "       0.06072839, 0.06365881, 0.06672059, 0.06991865, 0.07325795,\n",
              "       0.07674359, 0.08038068, 0.08417443, 0.08813008, 0.09225289,\n",
              "       0.09654816, 0.10102115, 0.10567713, 0.11052132, 0.11555887,\n",
              "       0.12079485, 0.12623421, 0.13188177, 0.13774216, 0.14381982,\n",
              "       0.15011896, 0.15664352, 0.16339714, 0.1703831 , 0.17760434,\n",
              "       0.18506337, 0.19276223, 0.20070249, 0.2088852 , 0.21731081,\n",
              "       0.2259792 , 0.2348896 , 0.24404056, 0.25342995, 0.26305488,\n",
              "       0.27291173, 0.28299608, 0.29330275, 0.30382573, 0.3145582 ,\n",
              "       0.32549253, 0.33662029, 0.34793225, 0.35941838, 0.37106791,\n",
              "       0.38286935, 0.39481051, 0.40687856, 0.41906005, 0.43134102,\n",
              "       0.44370701, 0.45614315, 0.46863421, 0.4811647 , 0.49371892,\n",
              "       0.50628108, 0.5188353 , 0.53136579, 0.54385685, 0.55629299,\n",
              "       0.56865898, 0.58093995, 0.59312144, 0.60518949, 0.61713065,\n",
              "       0.62893209, 0.64058162, 0.65206775, 0.66337971, 0.67450747,\n",
              "       0.6854418 , 0.69617427, 0.70669725, 0.71700392, 0.72708827,\n",
              "       0.73694512, 0.74657005, 0.75595944, 0.7651104 , 0.7740208 ,\n",
              "       0.78268919, 0.7911148 , 0.79929751, 0.80723777, 0.81493663,\n",
              "       0.82239566, 0.8296169 , 0.83660286, 0.84335648, 0.84988104,\n",
              "       0.85618018, 0.86225784, 0.86811823, 0.87376579, 0.87920515,\n",
              "       0.88444113, 0.88947868, 0.89432287, 0.89897885, 0.90345184,\n",
              "       0.90774711, 0.91186992, 0.91582557, 0.91961932, 0.92325641,\n",
              "       0.92674205, 0.93008135, 0.93327941, 0.93634119, 0.93927161,\n",
              "       0.94207549, 0.94475751, 0.9473223 , 0.94977435, 0.95211802,\n",
              "       0.95435759, 0.95649719, 0.95854085, 0.96049247, 0.96235582,\n",
              "       0.96413458, 0.96583227, 0.96745231, 0.96899801, 0.97047254,\n",
              "       0.97187897, 0.97322026, 0.97449925, 0.97571869, 0.97688119,\n",
              "       0.9779893 , 0.97904543, 0.98005191, 0.981011  , 0.98192482,\n",
              "       0.98279543, 0.98362481, 0.98441485, 0.98516734, 0.98588402,\n",
              "       0.98656654, 0.98721649, 0.98783539, 0.98842467, 0.98898572,\n",
              "       0.98951987, 0.99002837, 0.99051244, 0.99097323, 0.99141182,\n",
              "       0.99182929, 0.99222662, 0.99260477, 0.99296466, 0.99330715])"
            ]
          },
          "metadata": {},
          "execution_count": 41
        }
      ]
    },
    {
      "cell_type": "markdown",
      "metadata": {
        "id": "jf45uObOyT2i"
      },
      "source": [
        "## Xavier and He Initialization"
      ]
    },
    {
      "cell_type": "code",
      "metadata": {
        "id": "iQqSsCCxyT2j",
        "colab": {
          "base_uri": "https://localhost:8080/"
        },
        "outputId": "9ce7f288-9bc8-4475-a681-6cecb5525b4c"
      },
      "source": [
        "#CODE for points = 1\n",
        "# set activation to relu and kernel initializer to he_normal\n",
        "\n",
        "keras.layers.Dense(10, activation=\"relu\", kernel_initializer=\"he_normal\")"
      ],
      "execution_count": 42,
      "outputs": [
        {
          "output_type": "execute_result",
          "data": {
            "text/plain": [
              "<keras.layers.core.dense.Dense at 0x7f04fffe6910>"
            ]
          },
          "metadata": {},
          "execution_count": 42
        }
      ]
    },
    {
      "cell_type": "markdown",
      "metadata": {
        "id": "VKeun9hyyT2k"
      },
      "source": [
        "### Leaky ReLU"
      ]
    },
    {
      "cell_type": "code",
      "metadata": {
        "id": "c1HuzTv0yT2k"
      },
      "source": [
        "#CODE for points = 1\n",
        "\n",
        "# remember α is the hyperparameter that defines how much the function “leaks”\n",
        "# set the value of alpha, use the value typically set\n",
        "\n",
        "def leaky_relu(z, alpha=0.01):\n",
        "    return np.maximum(alpha*z, z)"
      ],
      "execution_count": 43,
      "outputs": []
    },
    {
      "cell_type": "markdown",
      "metadata": {
        "id": "WUD0kkZdyT2l"
      },
      "source": [
        "Let's train a neural network on Fashion MNIST using the Leaky ReLU:"
      ]
    },
    {
      "cell_type": "code",
      "metadata": {
        "id": "-ijUxHfhyT2m"
      },
      "source": [
        "#CODE for points = 1\n",
        "#load MNIST dataset from keras\n",
        "\n",
        "from keras.datasets import fashion_mnist\n",
        "\n",
        "(X_train_full, y_train_full), (X_test, y_test) = fashion_mnist.load_data()\n",
        "X_train_full = X_train_full / 255.0\n",
        "X_test = X_test / 255.0\n",
        "X_valid, X_train = X_train_full[:5000], X_train_full[5000:]\n",
        "y_valid, y_train = y_train_full[:5000], y_train_full[5000:]"
      ],
      "execution_count": 44,
      "outputs": []
    },
    {
      "cell_type": "code",
      "metadata": {
        "id": "GDnaASswyT2m"
      },
      "source": [
        "#CODE for points = 1\n",
        "\n",
        "# initialize kernel_initializer to \"he_normal\" and activation function to softmax\n",
        "\n",
        "tf.random.set_seed(42)\n",
        "np.random.seed(42)\n",
        "\n",
        "model = keras.models.Sequential([\n",
        "    keras.layers.Flatten(input_shape=[28, 28]),\n",
        "    keras.layers.Dense(300, kernel_initializer=\"he_normal\"),\n",
        "    keras.layers.LeakyReLU(),\n",
        "    keras.layers.Dense(100, kernel_initializer=\"he_normal\"),\n",
        "    keras.layers.LeakyReLU(),\n",
        "    keras.layers.Dense(10, activation=\"softmax\")\n",
        "])"
      ],
      "execution_count": 45,
      "outputs": []
    },
    {
      "cell_type": "code",
      "metadata": {
        "id": "2qfd7pXdyT2m"
      },
      "source": [
        "model.compile(loss=\"sparse_categorical_crossentropy\",\n",
        "              optimizer=keras.optimizers.SGD(learning_rate=1e-3),\n",
        "              metrics=[\"accuracy\"])"
      ],
      "execution_count": 46,
      "outputs": []
    },
    {
      "cell_type": "code",
      "metadata": {
        "scrolled": true,
        "id": "nEyLFBtmyT2m",
        "colab": {
          "base_uri": "https://localhost:8080/"
        },
        "outputId": "45748a0a-e296-4a38-bd1e-b83d01cc1ec7"
      },
      "source": [
        "history = model.fit(X_train, y_train, epochs=5,\n",
        "                    validation_data=(X_valid, y_valid))"
      ],
      "execution_count": 47,
      "outputs": [
        {
          "output_type": "stream",
          "name": "stdout",
          "text": [
            "Epoch 1/5\n",
            "1719/1719 [==============================] - 7s 4ms/step - loss: 1.2819 - accuracy: 0.6229 - val_loss: 0.8886 - val_accuracy: 0.7160\n",
            "Epoch 2/5\n",
            "1719/1719 [==============================] - 6s 4ms/step - loss: 0.7955 - accuracy: 0.7361 - val_loss: 0.7130 - val_accuracy: 0.7656\n",
            "Epoch 3/5\n",
            "1719/1719 [==============================] - 6s 4ms/step - loss: 0.6816 - accuracy: 0.7721 - val_loss: 0.6427 - val_accuracy: 0.7900\n",
            "Epoch 4/5\n",
            "1719/1719 [==============================] - 6s 4ms/step - loss: 0.6217 - accuracy: 0.7944 - val_loss: 0.5900 - val_accuracy: 0.8064\n",
            "Epoch 5/5\n",
            "1719/1719 [==============================] - 7s 4ms/step - loss: 0.5832 - accuracy: 0.8074 - val_loss: 0.5582 - val_accuracy: 0.8200\n"
          ]
        }
      ]
    },
    {
      "cell_type": "markdown",
      "metadata": {
        "id": "wdphkBRoyT2s"
      },
      "source": [
        "Now look at what happens if we try to use the ReLU activation function instead:"
      ]
    },
    {
      "cell_type": "code",
      "metadata": {
        "id": "szqns6OGyT2s"
      },
      "source": [
        "np.random.seed(42)\n",
        "tf.random.set_seed(42)"
      ],
      "execution_count": 48,
      "outputs": []
    },
    {
      "cell_type": "code",
      "metadata": {
        "id": "Zu5g45C5yT2s"
      },
      "source": [
        "model = keras.models.Sequential()\n",
        "model.add(keras.layers.Flatten(input_shape=[28, 28]))\n",
        "\n",
        "model.add(keras.layers.Dense(300, activation=\"relu\", kernel_initializer=\"he_normal\"))\n",
        "\n",
        "for layer in range(99):\n",
        "    model.add(keras.layers.Dense(100, activation=\"relu\", kernel_initializer=\"he_normal\"))\n",
        "\n",
        "model.add(keras.layers.Dense(10, activation=\"softmax\"))"
      ],
      "execution_count": 49,
      "outputs": []
    },
    {
      "cell_type": "code",
      "metadata": {
        "id": "b8ziJs2PyT2s"
      },
      "source": [
        "model.compile(loss=\"sparse_categorical_crossentropy\",\n",
        "              optimizer=keras.optimizers.SGD(learning_rate=1e-3),\n",
        "              metrics=[\"accuracy\"])"
      ],
      "execution_count": 50,
      "outputs": []
    },
    {
      "cell_type": "code",
      "metadata": {
        "id": "1ATK0oSHyT2s",
        "colab": {
          "base_uri": "https://localhost:8080/"
        },
        "outputId": "d39c99e3-6703-4d89-e9e4-d1d30e2691f5"
      },
      "source": [
        "history = model.fit(X_train, y_train, epochs=5,\n",
        "                    validation_data=(X_valid, y_valid))"
      ],
      "execution_count": 52,
      "outputs": [
        {
          "output_type": "stream",
          "name": "stdout",
          "text": [
            "Epoch 1/5\n",
            "1719/1719 [==============================] - 29s 17ms/step - loss: 0.8247 - accuracy: 0.6724 - val_loss: 0.7727 - val_accuracy: 0.6852\n",
            "Epoch 2/5\n",
            "1719/1719 [==============================] - 29s 17ms/step - loss: 0.6985 - accuracy: 0.7256 - val_loss: 0.6522 - val_accuracy: 0.7342\n",
            "Epoch 3/5\n",
            "1719/1719 [==============================] - 29s 17ms/step - loss: 0.6719 - accuracy: 0.7450 - val_loss: 0.6275 - val_accuracy: 0.7754\n",
            "Epoch 4/5\n",
            "1719/1719 [==============================] - 29s 17ms/step - loss: 0.6113 - accuracy: 0.7727 - val_loss: 0.6243 - val_accuracy: 0.7720\n",
            "Epoch 5/5\n",
            "1719/1719 [==============================] - 29s 17ms/step - loss: 0.6670 - accuracy: 0.7539 - val_loss: 0.5930 - val_accuracy: 0.7930\n"
          ]
        }
      ]
    },
    {
      "cell_type": "markdown",
      "metadata": {
        "id": "Zsa-9WY5yT2t"
      },
      "source": [
        "Not great at all, we suffered from the vanishing/exploding gradients problem."
      ]
    },
    {
      "cell_type": "markdown",
      "metadata": {
        "id": "NODlyFfnyT2t"
      },
      "source": [
        "# Batch Normalization"
      ]
    },
    {
      "cell_type": "code",
      "metadata": {
        "id": "IANuTmvzyT2t"
      },
      "source": [
        "model = keras.models.Sequential([\n",
        "    keras.layers.Flatten(input_shape=[28, 28]),\n",
        "    keras.layers.BatchNormalization(),\n",
        "    keras.layers.Dense(300, activation=\"relu\"),\n",
        "    keras.layers.BatchNormalization(),\n",
        "    keras.layers.Dense(100, activation=\"relu\"),\n",
        "    keras.layers.BatchNormalization(),\n",
        "    keras.layers.Dense(10, activation=\"softmax\")\n",
        "])"
      ],
      "execution_count": 54,
      "outputs": []
    },
    {
      "cell_type": "code",
      "metadata": {
        "id": "jpkrSpmOyT2t",
        "colab": {
          "base_uri": "https://localhost:8080/"
        },
        "outputId": "1acb7e12-3fba-4b86-9f7a-363932a2a891"
      },
      "source": [
        "model.summary()"
      ],
      "execution_count": 55,
      "outputs": [
        {
          "output_type": "stream",
          "name": "stdout",
          "text": [
            "Model: \"sequential_11\"\n",
            "_________________________________________________________________\n",
            " Layer (type)                Output Shape              Param #   \n",
            "=================================================================\n",
            " flatten_11 (Flatten)        (None, 784)               0         \n",
            "                                                                 \n",
            " batch_normalization_9 (Batc  (None, 784)              3136      \n",
            " hNormalization)                                                 \n",
            "                                                                 \n",
            " dense_232 (Dense)           (None, 300)               235500    \n",
            "                                                                 \n",
            " batch_normalization_10 (Bat  (None, 300)              1200      \n",
            " chNormalization)                                                \n",
            "                                                                 \n",
            " dense_233 (Dense)           (None, 100)               30100     \n",
            "                                                                 \n",
            " batch_normalization_11 (Bat  (None, 100)              400       \n",
            " chNormalization)                                                \n",
            "                                                                 \n",
            " dense_234 (Dense)           (None, 10)                1010      \n",
            "                                                                 \n",
            "=================================================================\n",
            "Total params: 271,346\n",
            "Trainable params: 268,978\n",
            "Non-trainable params: 2,368\n",
            "_________________________________________________________________\n"
          ]
        }
      ]
    },
    {
      "cell_type": "code",
      "metadata": {
        "id": "SeHquM9ByT2t",
        "colab": {
          "base_uri": "https://localhost:8080/"
        },
        "outputId": "cb82ae4e-3151-41a3-d208-047dda197727"
      },
      "source": [
        "bn1 = model.layers[1]\n",
        "[(var.name, var.trainable) for var in bn1.variables]"
      ],
      "execution_count": 56,
      "outputs": [
        {
          "output_type": "execute_result",
          "data": {
            "text/plain": [
              "[('batch_normalization_9/gamma:0', True),\n",
              " ('batch_normalization_9/beta:0', True),\n",
              " ('batch_normalization_9/moving_mean:0', False),\n",
              " ('batch_normalization_9/moving_variance:0', False)]"
            ]
          },
          "metadata": {},
          "execution_count": 56
        }
      ]
    },
    {
      "cell_type": "code",
      "metadata": {
        "id": "nzC0HW2byT2u"
      },
      "source": [
        "#bn1.updates #deprecated"
      ],
      "execution_count": 57,
      "outputs": []
    },
    {
      "cell_type": "code",
      "metadata": {
        "id": "wsaT9GAeyT2u"
      },
      "source": [
        "model.compile(loss=\"sparse_categorical_crossentropy\",\n",
        "              optimizer=keras.optimizers.SGD(learning_rate=1e-3),\n",
        "              metrics=[\"accuracy\"])"
      ],
      "execution_count": 58,
      "outputs": []
    },
    {
      "cell_type": "code",
      "metadata": {
        "id": "71G_x6M7yT2u",
        "colab": {
          "base_uri": "https://localhost:8080/"
        },
        "outputId": "24f8f498-c5de-4e02-f47e-c9659befbf9b"
      },
      "source": [
        "history = model.fit(X_train, y_train, epochs=5,\n",
        "                    validation_data=(X_valid, y_valid))"
      ],
      "execution_count": 59,
      "outputs": [
        {
          "output_type": "stream",
          "name": "stdout",
          "text": [
            "Epoch 1/5\n",
            "1719/1719 [==============================] - 11s 6ms/step - loss: 0.8491 - accuracy: 0.7130 - val_loss: 0.5606 - val_accuracy: 0.8086\n",
            "Epoch 2/5\n",
            "1719/1719 [==============================] - 10s 6ms/step - loss: 0.5753 - accuracy: 0.8007 - val_loss: 0.4785 - val_accuracy: 0.8368\n",
            "Epoch 3/5\n",
            "1719/1719 [==============================] - 11s 6ms/step - loss: 0.5182 - accuracy: 0.8194 - val_loss: 0.4432 - val_accuracy: 0.8466\n",
            "Epoch 4/5\n",
            "1719/1719 [==============================] - 12s 7ms/step - loss: 0.4800 - accuracy: 0.8332 - val_loss: 0.4211 - val_accuracy: 0.8526\n",
            "Epoch 5/5\n",
            "1719/1719 [==============================] - 11s 6ms/step - loss: 0.4546 - accuracy: 0.8405 - val_loss: 0.4058 - val_accuracy: 0.8592\n"
          ]
        }
      ]
    },
    {
      "cell_type": "markdown",
      "metadata": {
        "id": "MVtHTRXPyT2u"
      },
      "source": [
        "Sometimes applying BN before the activation function works better (there's a debate on this topic). Moreover, the layer before a `BatchNormalization` layer does not need to have bias terms, since the `BatchNormalization` layer some as well, it would be a waste of parameters, so you can set `use_bias=False` when creating those layers:"
      ]
    },
    {
      "cell_type": "code",
      "metadata": {
        "id": "AOHLeX3gyT2v"
      },
      "source": [
        "model = keras.models.Sequential([\n",
        "    keras.layers.Flatten(input_shape=[28, 28]),\n",
        "    keras.layers.BatchNormalization(),\n",
        "    keras.layers.Dense(300, use_bias=False),\n",
        "    keras.layers.BatchNormalization(),\n",
        "    keras.layers.Activation(\"relu\"),\n",
        "    keras.layers.Dense(100, use_bias=False),\n",
        "    keras.layers.BatchNormalization(),\n",
        "    keras.layers.Activation(\"relu\"),\n",
        "    keras.layers.Dense(10, activation=\"softmax\")\n",
        "])"
      ],
      "execution_count": 60,
      "outputs": []
    },
    {
      "cell_type": "code",
      "metadata": {
        "id": "xMcbKZ0OyT2v"
      },
      "source": [
        "model.compile(loss=\"sparse_categorical_crossentropy\",\n",
        "              optimizer=keras.optimizers.SGD(learning_rate=1e-3),\n",
        "              metrics=[\"accuracy\"])"
      ],
      "execution_count": 61,
      "outputs": []
    },
    {
      "cell_type": "code",
      "metadata": {
        "id": "gGco3TNkyT2v",
        "colab": {
          "base_uri": "https://localhost:8080/"
        },
        "outputId": "0254d685-26f8-452d-b3d9-cc935beb1dd2"
      },
      "source": [
        "history = model.fit(X_train, y_train, epochs=5,\n",
        "                    validation_data=(X_valid, y_valid))"
      ],
      "execution_count": 62,
      "outputs": [
        {
          "output_type": "stream",
          "name": "stdout",
          "text": [
            "Epoch 1/5\n",
            "1719/1719 [==============================] - 12s 6ms/step - loss: 1.0640 - accuracy: 0.6715 - val_loss: 0.6875 - val_accuracy: 0.7836\n",
            "Epoch 2/5\n",
            "1719/1719 [==============================] - 11s 6ms/step - loss: 0.6903 - accuracy: 0.7787 - val_loss: 0.5609 - val_accuracy: 0.8174\n",
            "Epoch 3/5\n",
            "1719/1719 [==============================] - 11s 6ms/step - loss: 0.6036 - accuracy: 0.8014 - val_loss: 0.5030 - val_accuracy: 0.8372\n",
            "Epoch 4/5\n",
            "1719/1719 [==============================] - 11s 7ms/step - loss: 0.5514 - accuracy: 0.8164 - val_loss: 0.4674 - val_accuracy: 0.8448\n",
            "Epoch 5/5\n",
            "1719/1719 [==============================] - 12s 7ms/step - loss: 0.5163 - accuracy: 0.8260 - val_loss: 0.4431 - val_accuracy: 0.8520\n"
          ]
        }
      ]
    },
    {
      "cell_type": "markdown",
      "metadata": {
        "id": "gZcjpY7TyT2z"
      },
      "source": [
        "# Faster Optimizers"
      ]
    },
    {
      "cell_type": "markdown",
      "metadata": {
        "id": "QzvjID6IyT20"
      },
      "source": [
        "## Momentum optimization"
      ]
    },
    {
      "cell_type": "code",
      "metadata": {
        "id": "W_8slx2ByT20"
      },
      "source": [
        "#CODE for points = 1\n",
        "# initialize lr and momentum to typical values\n",
        "\n",
        "optimizer = keras.optimizers.SGD(learning_rate= 0.01, momentum= 0.9)"
      ],
      "execution_count": 63,
      "outputs": []
    },
    {
      "cell_type": "markdown",
      "metadata": {
        "id": "QTF0A3-oyT20"
      },
      "source": [
        "## Nesterov Accelerated Gradient"
      ]
    },
    {
      "cell_type": "code",
      "metadata": {
        "id": "piqxQeEwyT21"
      },
      "source": [
        "#CODE for points = 1\n",
        "# initialize lr and momentum to typical values. Set nesterov so that it is used\n",
        "\n",
        "optimizer = keras.optimizers.SGD(learning_rate=0.01, momentum= 0.9, nesterov=0.1)"
      ],
      "execution_count": 65,
      "outputs": []
    },
    {
      "cell_type": "markdown",
      "metadata": {
        "id": "G7VG-ueuyT2-"
      },
      "source": [
        "# Avoiding Overfitting Through Regularization"
      ]
    },
    {
      "cell_type": "markdown",
      "metadata": {
        "id": "to1x3hcIyT2-"
      },
      "source": [
        "## $\\ell_1$ and $\\ell_2$ regularization"
      ]
    },
    {
      "cell_type": "code",
      "metadata": {
        "id": "saUIENUUyT2-"
      },
      "source": [
        "#CODE for points = 0.5\n",
        "\n",
        "# Use syntax for assigning l2 regularization with a factor 0.01 as given here - https://keras.io/api/layers/regularizers/\n",
        "\n",
        "layer = keras.layers.Dense(100, activation=\"elu\",\n",
        "                           kernel_initializer=\"he_normal\",\n",
        "                           kernel_regularizer=keras.regularizers.l1(0.01))"
      ],
      "execution_count": 66,
      "outputs": []
    },
    {
      "cell_type": "code",
      "metadata": {
        "id": "EBqxkuQCyT2-",
        "colab": {
          "base_uri": "https://localhost:8080/"
        },
        "outputId": "82f7531d-976b-436b-acef-7592e89bbe7a"
      },
      "source": [
        "#CODE for points = 1\n",
        "\n",
        "# Use syntax for assigning l2 regularization with a factor 0.01 as given here - https://keras.io/api/layers/regularizers/\n",
        "# nadam optimizer\n",
        "\n",
        "model = keras.models.Sequential([\n",
        "    keras.layers.Flatten(input_shape=[28, 28]),\n",
        "    keras.layers.Dense(300, activation=\"elu\",\n",
        "                       kernel_initializer=\"he_normal\",\n",
        "                       kernel_regularizer=keras.regularizers.l2(0.01)),\n",
        "    keras.layers.Dense(100, activation=\"elu\",\n",
        "                       kernel_initializer=\"he_normal\",\n",
        "                       kernel_regularizer=keras.regularizers.l2(0.01)),\n",
        "    keras.layers.Dense(10, activation=\"softmax\",\n",
        "                       kernel_regularizer=keras.regularizers.l2(0.01))\n",
        "])\n",
        "model.compile(loss=\"sparse_categorical_crossentropy\", optimizer=\"nadam\", metrics=[\"accuracy\"])\n",
        "n_epochs = 2\n",
        "history = model.fit(X_train, y_train, epochs=n_epochs,\n",
        "                    validation_data=(X_valid, y_valid))"
      ],
      "execution_count": 67,
      "outputs": [
        {
          "output_type": "stream",
          "name": "stdout",
          "text": [
            "Epoch 1/2\n",
            "1719/1719 [==============================] - 15s 8ms/step - loss: 1.5647 - accuracy: 0.7783 - val_loss: 1.0067 - val_accuracy: 0.7666\n",
            "Epoch 2/2\n",
            "1719/1719 [==============================] - 14s 8ms/step - loss: 0.9059 - accuracy: 0.7952 - val_loss: 0.8494 - val_accuracy: 0.8216\n"
          ]
        }
      ]
    },
    {
      "cell_type": "code",
      "metadata": {
        "id": "IyzDPdgbyT2-"
      },
      "source": [
        "#CODE for points = .5\n",
        "\n",
        "# Use syntax for assigning l2 regularization with a factor 0.01 as given here - https://keras.io/api/layers/regularizers/\n",
        "\n",
        "from functools import partial\n",
        "\n",
        "RegularizedDense = partial(keras.layers.Dense,\n",
        "                           activation=\"elu\",\n",
        "                           kernel_initializer=\"he_normal\",\n",
        "                           kernel_regularizer=keras.regularizers.l2(0.01))"
      ],
      "execution_count": 68,
      "outputs": []
    },
    {
      "cell_type": "code",
      "metadata": {
        "id": "oW0OIFKABTNZ",
        "colab": {
          "base_uri": "https://localhost:8080/"
        },
        "outputId": "5e48fed3-3262-4c4c-b0ea-0db79c06b054"
      },
      "source": [
        "#CODE for points = 1\n",
        "\n",
        "# activation function initialized as softmax\n",
        "# nadam optimizer\n",
        "\n",
        "\n",
        "model = keras.models.Sequential([\n",
        "    keras.layers.Flatten(input_shape=[28, 28]),\n",
        "    RegularizedDense(300),\n",
        "    RegularizedDense(100),\n",
        "    RegularizedDense(10, activation=\"softmax\")\n",
        "])\n",
        "model.compile(loss=\"sparse_categorical_crossentropy\", optimizer=\"nadam\", metrics=[\"accuracy\"])\n",
        "n_epochs = 2\n",
        "history = model.fit(X_train, y_train, epochs=n_epochs,\n",
        "                    validation_data=(X_valid, y_valid))\n"
      ],
      "execution_count": 69,
      "outputs": [
        {
          "output_type": "stream",
          "name": "stdout",
          "text": [
            "Epoch 1/2\n",
            "1719/1719 [==============================] - 16s 9ms/step - loss: 1.6248 - accuracy: 0.7795 - val_loss: 1.0283 - val_accuracy: 0.7626\n",
            "Epoch 2/2\n",
            "1719/1719 [==============================] - 15s 8ms/step - loss: 0.9096 - accuracy: 0.7933 - val_loss: 0.8523 - val_accuracy: 0.8188\n"
          ]
        }
      ]
    }
  ]
}