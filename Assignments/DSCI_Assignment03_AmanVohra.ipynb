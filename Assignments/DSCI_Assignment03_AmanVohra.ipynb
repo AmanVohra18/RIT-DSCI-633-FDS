{
  "nbformat": 4,
  "nbformat_minor": 0,
  "metadata": {
    "colab": {
      "name": "DSCI-Assignment03-AmanVohra.ipynb",
      "provenance": [],
      "collapsed_sections": []
    },
    "kernelspec": {
      "name": "python3",
      "display_name": "Python 3"
    },
    "language_info": {
      "name": "python"
    }
  },
  "cells": [
    {
      "cell_type": "markdown",
      "metadata": {
        "id": "hTcFv398beRg"
      },
      "source": [
        "#STEP 1 and 2: Setup & Get the Data#"
      ]
    },
    {
      "cell_type": "code",
      "metadata": {
        "id": "eMVo6BkK-Z3y"
      },
      "source": [
        "import sys\n",
        "import sklearn\n",
        "import numpy as np\n",
        "import os\n",
        "%matplotlib inline\n",
        "import matplotlib as mpl\n",
        "import matplotlib.pyplot as plt"
      ],
      "execution_count": 1,
      "outputs": []
    },
    {
      "cell_type": "code",
      "metadata": {
        "colab": {
          "base_uri": "https://localhost:8080/"
        },
        "id": "QgzMyp_6Tyi3",
        "outputId": "1bcf197b-6243-4fdf-ae5e-5b767ca820c0"
      },
      "source": [
        "#importing the necessary modules\n",
        "import pandas as pd\n",
        "from zipfile import ZipFile\n",
        "from urllib.request import urlopen\n",
        "import io\n",
        "\n",
        "#loading the dataset\n",
        "file_path = 'https://raw.githubusercontent.com/aiforsec/RIT-DSCI-633-FDS/main/Assignments/titanic.zip'\n",
        "f = urlopen(file_path).read()\n",
        "zip_file = ZipFile(io.BytesIO(f))\n",
        "\n",
        "#Reading the test and train dataframes\n",
        "test_df = pd.read_csv(zip_file.open('test.csv'))\n",
        "train_df = pd.read_csv(zip_file.open('train.csv'))\n",
        "\n",
        "#Print the first 5 rows of the dataframe\n",
        "print(train_df.head())\n",
        "print()\n",
        "print(test_df.head())\n",
        "print()\n",
        "\n",
        "#Print the number of rows and columns of dataframe\n",
        "print(\"Shape of train dataframe: \" , train_df.shape)\n",
        "print()\n",
        "print(\"Shape of test dataframe: \" , test_df.shape)"
      ],
      "execution_count": 2,
      "outputs": [
        {
          "output_type": "stream",
          "name": "stdout",
          "text": [
            "   PassengerId  Survived  Pclass  ...     Fare Cabin  Embarked\n",
            "0            1         0       3  ...   7.2500   NaN         S\n",
            "1            2         1       1  ...  71.2833   C85         C\n",
            "2            3         1       3  ...   7.9250   NaN         S\n",
            "3            4         1       1  ...  53.1000  C123         S\n",
            "4            5         0       3  ...   8.0500   NaN         S\n",
            "\n",
            "[5 rows x 12 columns]\n",
            "\n",
            "   PassengerId  Pclass  ... Cabin Embarked\n",
            "0          892       3  ...   NaN        Q\n",
            "1          893       3  ...   NaN        S\n",
            "2          894       2  ...   NaN        Q\n",
            "3          895       3  ...   NaN        S\n",
            "4          896       3  ...   NaN        S\n",
            "\n",
            "[5 rows x 11 columns]\n",
            "\n",
            "Shape of train dataframe:  (891, 12)\n",
            "\n",
            "Shape of test dataframe:  (418, 11)\n"
          ]
        }
      ]
    },
    {
      "cell_type": "markdown",
      "metadata": {
        "id": "TEQKMhdycEGK"
      },
      "source": [
        "#STEP 3: Data Manipulation and Analysis using Pandas framework#"
      ]
    },
    {
      "cell_type": "code",
      "metadata": {
        "colab": {
          "base_uri": "https://localhost:8080/"
        },
        "id": "y-vvjTODUpn-",
        "outputId": "c7c0e7d6-b4de-4bcd-ee05-6f2cbc674e82"
      },
      "source": [
        "#Print the summary of the DataFrame\n",
        "print(train_df.info())\n",
        "print()\n",
        "print(test_df.info())"
      ],
      "execution_count": 3,
      "outputs": [
        {
          "output_type": "stream",
          "name": "stdout",
          "text": [
            "<class 'pandas.core.frame.DataFrame'>\n",
            "RangeIndex: 891 entries, 0 to 890\n",
            "Data columns (total 12 columns):\n",
            " #   Column       Non-Null Count  Dtype  \n",
            "---  ------       --------------  -----  \n",
            " 0   PassengerId  891 non-null    int64  \n",
            " 1   Survived     891 non-null    int64  \n",
            " 2   Pclass       891 non-null    int64  \n",
            " 3   Name         891 non-null    object \n",
            " 4   Sex          891 non-null    object \n",
            " 5   Age          714 non-null    float64\n",
            " 6   SibSp        891 non-null    int64  \n",
            " 7   Parch        891 non-null    int64  \n",
            " 8   Ticket       891 non-null    object \n",
            " 9   Fare         891 non-null    float64\n",
            " 10  Cabin        204 non-null    object \n",
            " 11  Embarked     889 non-null    object \n",
            "dtypes: float64(2), int64(5), object(5)\n",
            "memory usage: 83.7+ KB\n",
            "None\n",
            "\n",
            "<class 'pandas.core.frame.DataFrame'>\n",
            "RangeIndex: 418 entries, 0 to 417\n",
            "Data columns (total 11 columns):\n",
            " #   Column       Non-Null Count  Dtype  \n",
            "---  ------       --------------  -----  \n",
            " 0   PassengerId  418 non-null    int64  \n",
            " 1   Pclass       418 non-null    int64  \n",
            " 2   Name         418 non-null    object \n",
            " 3   Sex          418 non-null    object \n",
            " 4   Age          332 non-null    float64\n",
            " 5   SibSp        418 non-null    int64  \n",
            " 6   Parch        418 non-null    int64  \n",
            " 7   Ticket       418 non-null    object \n",
            " 8   Fare         417 non-null    float64\n",
            " 9   Cabin        91 non-null     object \n",
            " 10  Embarked     418 non-null    object \n",
            "dtypes: float64(2), int64(4), object(5)\n",
            "memory usage: 36.0+ KB\n",
            "None\n"
          ]
        }
      ]
    },
    {
      "cell_type": "code",
      "metadata": {
        "colab": {
          "base_uri": "https://localhost:8080/"
        },
        "id": "tWd1KUZtYd9J",
        "outputId": "be381e06-4bc6-4306-d977-df6c56fd064d"
      },
      "source": [
        "#Print the individual description for both the columns of the dataframe\n",
        "print(train_df.isnull().sum())\n",
        "print()\n",
        "print(test_df.isnull().sum())"
      ],
      "execution_count": 4,
      "outputs": [
        {
          "output_type": "stream",
          "name": "stdout",
          "text": [
            "PassengerId      0\n",
            "Survived         0\n",
            "Pclass           0\n",
            "Name             0\n",
            "Sex              0\n",
            "Age            177\n",
            "SibSp            0\n",
            "Parch            0\n",
            "Ticket           0\n",
            "Fare             0\n",
            "Cabin          687\n",
            "Embarked         2\n",
            "dtype: int64\n",
            "\n",
            "PassengerId      0\n",
            "Pclass           0\n",
            "Name             0\n",
            "Sex              0\n",
            "Age             86\n",
            "SibSp            0\n",
            "Parch            0\n",
            "Ticket           0\n",
            "Fare             1\n",
            "Cabin          327\n",
            "Embarked         0\n",
            "dtype: int64\n"
          ]
        }
      ]
    },
    {
      "cell_type": "markdown",
      "metadata": {
        "id": "W3aevlCcmnDt"
      },
      "source": [
        "##As you can see above, there are 177 NULL values in the Age column, 687 in the Cabin colum and 2 values in the Embarked. "
      ]
    },
    {
      "cell_type": "code",
      "metadata": {
        "colab": {
          "base_uri": "https://localhost:8080/"
        },
        "id": "o8fVIY3Yl7Tt",
        "outputId": "33457447-a6dc-469d-b129-cec751c8d3d8"
      },
      "source": [
        "print(train_df.columns.values, test_df.columns.values)"
      ],
      "execution_count": 5,
      "outputs": [
        {
          "output_type": "stream",
          "name": "stdout",
          "text": [
            "['PassengerId' 'Survived' 'Pclass' 'Name' 'Sex' 'Age' 'SibSp' 'Parch'\n",
            " 'Ticket' 'Fare' 'Cabin' 'Embarked'] ['PassengerId' 'Pclass' 'Name' 'Sex' 'Age' 'SibSp' 'Parch' 'Ticket' 'Fare'\n",
            " 'Cabin' 'Embarked']\n"
          ]
        }
      ]
    },
    {
      "cell_type": "code",
      "metadata": {
        "colab": {
          "base_uri": "https://localhost:8080/"
        },
        "id": "bKk5rTqomPh0",
        "outputId": "f183833c-79c7-4e0f-9e1b-701da6bf4803"
      },
      "source": [
        "print(train_df.describe())\n",
        "print(test_df.describe())"
      ],
      "execution_count": 6,
      "outputs": [
        {
          "output_type": "stream",
          "name": "stdout",
          "text": [
            "       PassengerId    Survived      Pclass  ...       SibSp       Parch        Fare\n",
            "count   891.000000  891.000000  891.000000  ...  891.000000  891.000000  891.000000\n",
            "mean    446.000000    0.383838    2.308642  ...    0.523008    0.381594   32.204208\n",
            "std     257.353842    0.486592    0.836071  ...    1.102743    0.806057   49.693429\n",
            "min       1.000000    0.000000    1.000000  ...    0.000000    0.000000    0.000000\n",
            "25%     223.500000    0.000000    2.000000  ...    0.000000    0.000000    7.910400\n",
            "50%     446.000000    0.000000    3.000000  ...    0.000000    0.000000   14.454200\n",
            "75%     668.500000    1.000000    3.000000  ...    1.000000    0.000000   31.000000\n",
            "max     891.000000    1.000000    3.000000  ...    8.000000    6.000000  512.329200\n",
            "\n",
            "[8 rows x 7 columns]\n",
            "       PassengerId      Pclass         Age       SibSp       Parch        Fare\n",
            "count   418.000000  418.000000  332.000000  418.000000  418.000000  417.000000\n",
            "mean   1100.500000    2.265550   30.272590    0.447368    0.392344   35.627188\n",
            "std     120.810458    0.841838   14.181209    0.896760    0.981429   55.907576\n",
            "min     892.000000    1.000000    0.170000    0.000000    0.000000    0.000000\n",
            "25%     996.250000    1.000000   21.000000    0.000000    0.000000    7.895800\n",
            "50%    1100.500000    3.000000   27.000000    0.000000    0.000000   14.454200\n",
            "75%    1204.750000    3.000000   39.000000    1.000000    0.000000   31.500000\n",
            "max    1309.000000    3.000000   76.000000    8.000000    9.000000  512.329200\n"
          ]
        }
      ]
    },
    {
      "cell_type": "code",
      "metadata": {
        "colab": {
          "base_uri": "https://localhost:8080/"
        },
        "id": "8SV1OQZum8CV",
        "outputId": "44288930-3a65-4468-a5b9-a43b76b72a5d"
      },
      "source": [
        "#total = train_df.shape[0] + test_df.shape[0]\n",
        "#print(train_df.shape[0]/ total)\n",
        "#print(test_df.shape[0]/ total)\n",
        "\n",
        "print(train_df.Pclass.value_counts())\n",
        "\n",
        "print()\n",
        "\n",
        "print(train_df.groupby(\"Pclass\").Survived.value_counts())"
      ],
      "execution_count": 7,
      "outputs": [
        {
          "output_type": "stream",
          "name": "stdout",
          "text": [
            "3    491\n",
            "1    216\n",
            "2    184\n",
            "Name: Pclass, dtype: int64\n",
            "\n",
            "Pclass  Survived\n",
            "1       1           136\n",
            "        0            80\n",
            "2       0            97\n",
            "        1            87\n",
            "3       0           372\n",
            "        1           119\n",
            "Name: Survived, dtype: int64\n"
          ]
        }
      ]
    },
    {
      "cell_type": "markdown",
      "metadata": {
        "id": "bOWXr_FopM1K"
      },
      "source": [
        "#STEP 4: DATA VISUALISATION"
      ]
    },
    {
      "cell_type": "code",
      "metadata": {
        "colab": {
          "base_uri": "https://localhost:8080/",
          "height": 276
        },
        "id": "CLw4-QjRnfEM",
        "outputId": "1e13e017-9ca9-4cab-b038-b1052e82fb15"
      },
      "source": [
        "train_df.groupby('Pclass').Survived.mean().plot(kind='bar')\n",
        "plt.ylabel('Survived')\n",
        "plt.xlabel('Pclass')\n",
        "plt.show()"
      ],
      "execution_count": 8,
      "outputs": [
        {
          "output_type": "display_data",
          "data": {
            "image/png": "[encoded data removed]",
            "text/plain": [
              "<Figure size 432x288 with 1 Axes>"
            ]
          },
          "metadata": {
            "needs_background": "light"
          }
        }
      ]
    },
    {
      "cell_type": "code",
      "metadata": {
        "colab": {
          "base_uri": "https://localhost:8080/",
          "height": 265
        },
        "id": "npBLmqbZnyYA",
        "outputId": "3f66e8e4-ea1c-46fe-b789-48f4af2aa0ca"
      },
      "source": [
        "train_df_3rd_class = train_df[train_df['Pclass'] == 3]\n",
        "plt.hist(train_df_3rd_class['Age'])\n",
        "plt.show()"
      ],
      "execution_count": 9,
      "outputs": [
        {
          "output_type": "display_data",
          "data": {
            "image/png": "[encoded data removed]",
            "text/plain": [
              "<Figure size 432x288 with 1 Axes>"
            ]
          },
          "metadata": {
            "needs_background": "light"
          }
        }
      ]
    },
    {
      "cell_type": "code",
      "metadata": {
        "id": "ECIrvIWAn70W"
      },
      "source": [
        "train_test_df = [train_df, test_df]"
      ],
      "execution_count": 10,
      "outputs": []
    },
    {
      "cell_type": "markdown",
      "metadata": {
        "id": "meqdSbfuokof"
      },
      "source": [
        "# STEP 5: Prepare the data for Machine Learning Model"
      ]
    },
    {
      "cell_type": "code",
      "metadata": {
        "id": "lbl-xBTHoUNz"
      },
      "source": [
        "for dataset in train_test_df:\n",
        "    dataset['Sex'] = dataset['Sex'].map( {'female': 1, 'male': 0} ).astype(int)"
      ],
      "execution_count": 11,
      "outputs": []
    },
    {
      "cell_type": "code",
      "metadata": {
        "id": "JzaGqycVot-Z"
      },
      "source": [
        "for tr in train_test_df:\n",
        "  tr['Embarked'] = tr['Embarked'].fillna('S') #filling missing embarked value with 'S'\n",
        "  tr['Embarked'] = tr['Embarked'].map( {'S': 0, 'C': 1, 'Q': 2} ).astype(int)"
      ],
      "execution_count": 12,
      "outputs": []
    },
    {
      "cell_type": "code",
      "metadata": {
        "colab": {
          "base_uri": "https://localhost:8080/"
        },
        "id": "7A2_4qahoxhT",
        "outputId": "306456cd-1c49-4460-f9f3-69ccae2c2841"
      },
      "source": [
        "for tr in train_test_df:\n",
        "  age_avg = tr['Age'].mean()\n",
        "  age_std = tr['Age'].std()\n",
        "  age_null = tr['Age'].isnull().sum()\n",
        "  age_null_random_list = np.random.randint(age_avg - age_std, age_avg + age_std, size=age_null)\n",
        "  tr['Age'][np.isnan(tr['Age'])] = age_null_random_list\n",
        "  tr['Age'] = tr['Age'].astype(int)\n",
        "train_df['AgeBand'] = pd.cut(train_df['Age'], 5)\n",
        "for dataset in train_test_df:\n",
        "    dataset.loc[ dataset['Age'] <= 16, 'Age'] = 0\n",
        "    dataset.loc[(dataset['Age'] > 16) & (dataset['Age'] <= 32), 'Age'] = 1\n",
        "    dataset.loc[(dataset['Age'] > 32) & (dataset['Age'] <= 48), 'Age'] = 2\n",
        "    dataset.loc[(dataset['Age'] > 48) & (dataset['Age'] <= 64), 'Age'] = 3\n",
        "    dataset.loc[ dataset['Age'] > 64, 'Age'] = 4"
      ],
      "execution_count": 13,
      "outputs": [
        {
          "output_type": "stream",
          "name": "stderr",
          "text": [
            "/usr/local/lib/python3.7/dist-packages/ipykernel_launcher.py:6: SettingWithCopyWarning: \n",
            "A value is trying to be set on a copy of a slice from a DataFrame\n",
            "\n",
            "See the caveats in the documentation: https://pandas.pydata.org/pandas-docs/stable/user_guide/indexing.html#returning-a-view-versus-a-copy\n",
            "  \n"
          ]
        }
      ]
    },
    {
      "cell_type": "code",
      "metadata": {
        "id": "Aii6Z6lDo1gZ"
      },
      "source": [
        "for dataset in train_test_df:\n",
        "    dataset['Fare'] = dataset['Fare'].fillna(train_df['Fare'].median())\n",
        "train_df['FareBand'] = pd.qcut(train_df['Fare'], 4) \n",
        "for dataset in train_test_df:\n",
        "    dataset.loc[ dataset['Fare'] <= 7.91, 'Fare'] = 0\n",
        "    dataset.loc[(dataset['Fare'] > 7.91) & (dataset['Fare'] <= 14.454), 'Fare'] = 1\n",
        "    dataset.loc[(dataset['Fare'] > 14.454) & (dataset['Fare'] <= 31), 'Fare']   = 2\n",
        "    dataset.loc[ dataset['Fare'] > 31, 'Fare'] = 3\n",
        "    dataset['Fare'] = dataset['Fare'].astype(int)"
      ],
      "execution_count": 14,
      "outputs": []
    },
    {
      "cell_type": "code",
      "metadata": {
        "colab": {
          "base_uri": "https://localhost:8080/"
        },
        "id": "MuMNM9wlphzV",
        "outputId": "ccffd2ae-fbb4-47be-efca-35803edb9a50"
      },
      "source": [
        "features_drop = ['Name', 'SibSp', 'Parch', 'Ticket', 'Cabin']\n",
        "train_df = train_df.drop(features_drop, axis=1)\n",
        "print(train_df.head())\n",
        "test_df = test_df.drop(features_drop, axis=1)\n",
        "train_df = train_df.drop(['PassengerId', 'AgeBand', 'FareBand'], axis=1)"
      ],
      "execution_count": 15,
      "outputs": [
        {
          "output_type": "stream",
          "name": "stdout",
          "text": [
            "   PassengerId  Survived  Pclass  ...  Embarked       AgeBand         FareBand\n",
            "0            1         0       3  ...         0  (16.0, 32.0]   (-0.001, 7.91]\n",
            "1            2         1       1  ...         1  (32.0, 48.0]  (31.0, 512.329]\n",
            "2            3         1       3  ...         0  (16.0, 32.0]   (7.91, 14.454]\n",
            "3            4         1       1  ...         0  (32.0, 48.0]  (31.0, 512.329]\n",
            "4            5         0       3  ...         0  (32.0, 48.0]   (7.91, 14.454]\n",
            "\n",
            "[5 rows x 9 columns]\n"
          ]
        }
      ]
    },
    {
      "cell_type": "markdown",
      "metadata": {
        "id": "k7ayEaDZpqtc"
      },
      "source": [
        "#STEP 6 & 7: Select and Train a Model and Evaluating Accuracy\n"
      ]
    },
    {
      "cell_type": "code",
      "metadata": {
        "colab": {
          "base_uri": "https://localhost:8080/"
        },
        "id": "FmoZtKuRpwoB",
        "outputId": "a0c83200-c775-4109-8f89-dd288ed8c102"
      },
      "source": [
        "X_train = train_df.drop('Survived', axis=1)\n",
        "y_train = train_df['Survived']\n",
        "X_test = test_df.drop(\"PassengerId\", axis=1).copy()\n",
        "\n",
        "X_train.shape, y_train.shape, X_test.shape"
      ],
      "execution_count": 16,
      "outputs": [
        {
          "output_type": "execute_result",
          "data": {
            "text/plain": [
              "((891, 5), (891,), (418, 5))"
            ]
          },
          "metadata": {},
          "execution_count": 16
        }
      ]
    },
    {
      "cell_type": "code",
      "metadata": {
        "colab": {
          "base_uri": "https://localhost:8080/"
        },
        "id": "KbtIh5MFp4Sm",
        "outputId": "95b5329d-c78f-4fa7-8102-22f00e047d4b"
      },
      "source": [
        "from sklearn.linear_model import LogisticRegression\n",
        "\n",
        "clf = LogisticRegression()\n",
        "clf.fit(X_train, y_train)\n",
        "y_pred_log_reg = clf.predict(X_test)\n",
        "acc_log_reg = round( clf.score(X_train, y_train) * 100, 2)\n",
        "print (str(acc_log_reg) + '%')"
      ],
      "execution_count": 17,
      "outputs": [
        {
          "output_type": "stream",
          "name": "stdout",
          "text": [
            "79.24%\n"
          ]
        }
      ]
    }
  ]
}