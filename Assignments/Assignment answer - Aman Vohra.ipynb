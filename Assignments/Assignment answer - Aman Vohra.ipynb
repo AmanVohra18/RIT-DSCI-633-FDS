{
  "nbformat": 4,
  "nbformat_minor": 0,
  "metadata": {
    "colab": {
      "name": "DSCI 633 - Assignment 02.ipynb",
      "provenance": [],
      "collapsed_sections": []
    },
    "kernelspec": {
      "name": "python3",
      "display_name": "Python 3"
    },
    "language_info": {
      "name": "python"
    }
  },
  "cells": [
    {
      "cell_type": "markdown",
      "metadata": {
        "id": "IkU6xe1tGPbD"
      },
      "source": [
        "## Setup"
      ]
    },
    {
      "cell_type": "markdown",
      "metadata": {
        "id": "_eXQMtXarEAc"
      },
      "source": [
        "<table align=\"left\">\n",
        "  <td>\n",
        "    <a href=\"https://colab.research.google.com/drive/1yu5U0X0LNqQ6sQyFcPMlWnVj2D6eWV7m?usp=sharing\" target=\"_parent\"><img src=\"https://colab.research.google.com/assets/colab-badge.svg\" alt=\"Open In Colab\"/></a>\n",
        "  </td>\n",
        "</table>"
      ]
    },
    {
      "cell_type": "code",
      "metadata": {
        "id": "mqQqkxgr5n_v"
      },
      "source": [
        "# Python ≥3.5 is required\n",
        "import sys"
      ],
      "execution_count": 9,
      "outputs": []
    },
    {
      "cell_type": "code",
      "metadata": {
        "id": "bPKvF1zC5zQA"
      },
      "source": [
        "# Scikit-Learn ≥0.20 is required\n",
        "import sklearn"
      ],
      "execution_count": 10,
      "outputs": []
    },
    {
      "cell_type": "markdown",
      "metadata": {
        "id": "G5fn-zskGUFs"
      },
      "source": [
        "## Get the Data"
      ]
    },
    {
      "cell_type": "markdown",
      "metadata": {
        "id": "54owZYZq79Vi"
      },
      "source": [
        "The function below merges the OECD's life satisfaction data and the IMF's GDP per capita data. We have discussed this example in class."
      ]
    },
    {
      "cell_type": "code",
      "metadata": {
        "id": "foUcANFq7-bp"
      },
      "source": [
        "def prepare_country_stats(oecd_bli, gdp_per_capita):\n",
        "    oecd_bli = oecd_bli[oecd_bli[\"INEQUALITY\"]==\"TOT\"]\n",
        "    oecd_bli = oecd_bli.pivot(index=\"Country\", columns=\"Indicator\", values=\"Value\")\n",
        "    gdp_per_capita.rename(columns={\"2015\": \"GDP per capita\"}, inplace=True)\n",
        "    gdp_per_capita.set_index(\"Country\", inplace=True)\n",
        "    full_country_stats = pd.merge(left=oecd_bli, right=gdp_per_capita,\n",
        "                                  left_index=True, right_index=True)\n",
        "    full_country_stats.sort_values(by=\"GDP per capita\", inplace=True)\n",
        "    remove_indices = [0, 1, 6, 8, 33, 34, 35]\n",
        "    keep_indices = list(set(range(36)) - set(remove_indices))\n",
        "    return full_country_stats[[\"GDP per capita\", 'Life satisfaction']].iloc[keep_indices]"
      ],
      "execution_count": 11,
      "outputs": []
    },
    {
      "cell_type": "markdown",
      "metadata": {
        "id": "tx6YGkTr8iOc"
      },
      "source": [
        "Fetch the files in datasets/lifesat"
      ]
    },
    {
      "cell_type": "code",
      "metadata": {
        "id": "XjJat6hq8h3t"
      },
      "source": [
        "import os\n",
        "datapath = os.path.join(\"datasets\", \"lifesat\", \"\")"
      ],
      "execution_count": 12,
      "outputs": []
    },
    {
      "cell_type": "markdown",
      "metadata": {
        "id": "bWfqsGGM8xml"
      },
      "source": [
        "[Uncomment the code] Code below plots pretty figures directly within Jupyter\n"
      ]
    },
    {
      "cell_type": "code",
      "metadata": {
        "id": "xEJrVB5I8hw3"
      },
      "source": [
        "#matplotlib inline\n",
        "import matplotlib as mpl\n",
        "mpl.rc('axes', labelsize=14)\n",
        "mpl.rc('xtick', labelsize=12)\n",
        "mpl.rc('ytick', labelsize=12)"
      ],
      "execution_count": 13,
      "outputs": []
    },
    {
      "cell_type": "markdown",
      "metadata": {
        "id": "a03xTpv29H8k"
      },
      "source": [
        "Download the data"
      ]
    },
    {
      "cell_type": "code",
      "metadata": {
        "colab": {
          "base_uri": "https://localhost:8080/"
        },
        "id": "aUr21Od69ETV",
        "outputId": "ddf0a3b6-5c48-4910-bbcf-846fbe36cfec"
      },
      "source": [
        "import urllib.request\n",
        "DOWNLOAD_ROOT = \"https://raw.githubusercontent.com/ageron/handson-ml2/master/\"\n",
        "os.makedirs(datapath, exist_ok=True)\n",
        "for filename in (\"oecd_bli_2015.csv\", \"gdp_per_capita.csv\"):\n",
        "    print(\"Downloading\", filename)\n",
        "    url = DOWNLOAD_ROOT + \"datasets/lifesat/\" + filename\n",
        "    urllib.request.urlretrieve(url, datapath + filename)"
      ],
      "execution_count": 14,
      "outputs": [
        {
          "output_type": "stream",
          "name": "stdout",
          "text": [
            "Downloading oecd_bli_2015.csv\n",
            "Downloading gdp_per_capita.csv\n"
          ]
        }
      ]
    },
    {
      "cell_type": "markdown",
      "metadata": {
        "id": "N2mnRqnw9PwQ"
      },
      "source": [
        "# Fill in the missing code\n"
      ]
    },
    {
      "cell_type": "code",
      "metadata": {
        "id": "p2_UEntiOuuc"
      },
      "source": [
        ""
      ],
      "execution_count": null,
      "outputs": []
    },
    {
      "cell_type": "code",
      "metadata": {
        "colab": {
          "base_uri": "https://localhost:8080/",
          "height": 639
        },
        "id": "M4MQ9Kny9a6y",
        "outputId": "b9089c97-398e-44cc-c05c-93c6df2c1df5"
      },
      "source": [
        "import matplotlib.pyplot as plt\n",
        "import numpy as np\n",
        "import pandas as pd\n",
        "import sklearn.linear_model as lint\n",
        "\n",
        "# Load the data\n",
        "oecd_bli = pd.read_csv(datapath + \"oecd_bli_2015.csv\", thousands=',')\n",
        "gdp_per_capita = pd.read_csv(datapath + \"gdp_per_capita.csv\",thousands=',',delimiter='\\t',\n",
        "                             encoding='latin1', na_values=\"n/a\")\n",
        "\n",
        "# Prepare the data\n",
        "country_stats = prepare_country_stats(oecd_bli, gdp_per_capita)\n",
        "print(country_stats.head(15) , \"\\n\")\n",
        "\n",
        "X = country_stats.iloc[:,:-1].values\n",
        "Y = country_stats.iloc[:,-1].values\n",
        "Y= Y.reshape(-1,1)\n",
        "\n",
        "#print(X)\n",
        "#print(Y)\n",
        "\n",
        "# Visualize the data\n",
        "plt.scatter(X,Y)\n",
        "plt.xlabel(\"GDP Per Capita\")\n",
        "plt.ylabel(\"Life Expectancy\")\n",
        "plt.show()\n",
        "\n",
        "# Select a linear model\n",
        "model = lint.LinearRegression()\n",
        "\n",
        "# Train the model\n",
        "model.fit(X,Y)\n",
        "\n",
        "\n",
        "# Make a prediction for Cyprus\n",
        "X_new = [[22587]]\n",
        "#model.predict(X)\n",
        "\n",
        "print(\"\\n\")\n",
        "print(\"Predicted value for Cyprus\", model.predict(X_new)) # outputs [[ 5.96242338]]"
      ],
      "execution_count": 60,
      "outputs": [
        {
          "output_type": "stream",
          "name": "stdout",
          "text": [
            "                 GDP per capita  Life satisfaction\n",
            "Country                                           \n",
            "Russia                 9054.914                6.0\n",
            "Turkey                 9437.372                5.6\n",
            "Hungary               12239.894                4.9\n",
            "Poland                12495.334                5.8\n",
            "Slovak Republic       15991.736                6.1\n",
            "Estonia               17288.083                5.6\n",
            "Greece                18064.288                4.8\n",
            "Portugal              19121.592                5.1\n",
            "Slovenia              20732.482                5.7\n",
            "Spain                 25864.721                6.5\n",
            "Korea                 27195.197                5.8\n",
            "Italy                 29866.581                6.0\n",
            "Japan                 32485.545                5.9\n",
            "Israel                35343.336                7.4\n",
            "New Zealand           37044.891                7.3 \n",
            "\n"
          ]
        },
        {
          "output_type": "display_data",
          "data": {
            "image/png": "[encoded data removed]",
            "text/plain": [
              "<Figure size 432x288 with 1 Axes>"
            ]
          },
          "metadata": {
            "needs_background": "light"
          }
        },
        {
          "output_type": "stream",
          "name": "stdout",
          "text": [
            "\n",
            "\n",
            "Predicted value for Cyprus [[5.96242338]]\n"
          ]
        }
      ]
    },
    {
      "cell_type": "markdown",
      "metadata": {
        "id": "ob4gZOMP94-Q"
      },
      "source": [
        "[Update] Replace the Linear Regression model with k-Nearest Neighbors (in this example, k = 3)"
      ]
    },
    {
      "cell_type": "code",
      "metadata": {
        "id": "bKwvfUz49g1P",
        "outputId": "41a77e88-af34-49e6-ef00-534ea94aa99c",
        "colab": {
          "base_uri": "https://localhost:8080/"
        }
      },
      "source": [
        "# Select a 3-Nearest Neighbors regression model\n",
        "import sklearn.neighbors as knn\n",
        "model1 = knn.KNeighborsClassifier(n_neighbors = 3)\n",
        "\n",
        "# Train the model\n",
        "model.fit(X,Y)\n",
        "\n",
        "# Make a prediction for Cyprus\n",
        "x_new1 = np.array([[22587.0]])\n",
        "model.predict(x_new1)"
      ],
      "execution_count": 62,
      "outputs": [
        {
          "output_type": "execute_result",
          "data": {
            "text/plain": [
              "array([[5.96242338]])"
            ]
          },
          "metadata": {},
          "execution_count": 62
        }
      ]
    },
    {
      "cell_type": "markdown",
      "metadata": {
        "id": "eBecKtMyGfCT"
      },
      "source": [
        "## DONE"
      ]
    },
    {
      "cell_type": "code",
      "metadata": {
        "id": "k4zw84KXGgMy"
      },
      "source": [
        ""
      ],
      "execution_count": null,
      "outputs": []
    }
  ]
}